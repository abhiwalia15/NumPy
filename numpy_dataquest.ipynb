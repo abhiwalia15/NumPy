{
 "cells": [
  {
   "cell_type": "code",
   "execution_count": 6,
   "metadata": {},
   "outputs": [
    {
     "data": {
      "text/plain": [
       "array([[4, 6, 7],\n",
       "       [7, 9, 9]])"
      ]
     },
     "execution_count": 6,
     "metadata": {},
     "output_type": "execute_result"
    }
   ],
   "source": [
    "import numpy as np\n",
    "\n",
    "#broadcasting in numpy array\n",
    "a_1 = np.array( \n",
    "    [\n",
    "        [2,3,2],\n",
    "        [5,6,4]\n",
    "    ])\n",
    "\n",
    "a_2 = np.array(\n",
    "    [\n",
    "        [2,3,5]\n",
    "    ])\n",
    "\n",
    "a_1+a_2"
   ]
  },
  {
   "cell_type": "code",
   "execution_count": 17,
   "metadata": {},
   "outputs": [
    {
     "data": {
      "text/plain": [
       "array([2, 3, 2, 5, 6, 4])"
      ]
     },
     "execution_count": 17,
     "metadata": {},
     "output_type": "execute_result"
    }
   ],
   "source": [
    "#sum of column\n",
    "a_1.sum(axis=0)\n",
    "#sum of row\n",
    "a_1.sum(axis=1)\n",
    "#mean along column\n",
    "a_1.mean(axis=0)\n",
    "#mean along row\n",
    "a_1.mean(axis=1)\n",
    "#standard deviation\n",
    "a_2.std()\n",
    "#used to comvert array into 1-D array\n",
    "a_1.ravel()"
   ]
  }
 ],
 "metadata": {
  "kernelspec": {
   "display_name": "Python 3",
   "language": "python",
   "name": "python3"
  },
  "language_info": {
   "codemirror_mode": {
    "name": "ipython",
    "version": 3
   },
   "file_extension": ".py",
   "mimetype": "text/x-python",
   "name": "python",
   "nbconvert_exporter": "python",
   "pygments_lexer": "ipython3",
   "version": "3.6.5"
  }
 },
 "nbformat": 4,
 "nbformat_minor": 2
}
